{
 "cells": [
  {
   "cell_type": "markdown",
   "source": [
    "# Objective\n",
    "* 20181225: \n",
    "    * Predict stock price in next day using XGBoost\n",
    "    * Given prices and other features for the last N days, we do prediction for day N+1\n",
    "    * Here we split 3 years of data into train(60%), dev(20%) and test(20%)"
   ],
   "metadata": {}
  },
  {
   "cell_type": "code",
   "execution_count": 1,
   "source": [
    "import math\n",
    "import matplotlib\n",
    "import numpy as np\n",
    "import pandas as pd\n",
    "import seaborn as sns\n",
    "import time\n",
    "import json\n",
    "\n",
    "from matplotlib import pyplot as plt\n",
    "from pylab import rcParams\n",
    "from sklearn.metrics import mean_squared_error\n",
    "from tqdm import tqdm\n",
    "from xgboost import XGBRegressor\n",
    "\n",
    "%matplotlib inline\n",
    "\n",
    "#### Input params ##################\n",
    "stk_path = \"./data/VTI.csv\"\n",
    "test_size = 0.2                # proportion of dataset to be used as test set\n",
    "cv_size = 0.2                  # proportion of dataset to be used as cross-validation set\n",
    "N = 7                          # for feature at day t, we use lags from t-1, t-2, ..., t-N as features\n",
    "\n",
    "n_estimators = 100             # for the initial model before tuning. default = 100\n",
    "max_depth = 3                  # for the initial model before tuning. default = 3\n",
    "learning_rate = 0.1            # for the initial model before tuning. default = 0.1\n",
    "min_child_weight = 1           # for the initial model before tuning. default = 1\n",
    "subsample = 1                  # for the initial model before tuning. default = 1\n",
    "colsample_bytree = 1           # for the initial model before tuning. default = 1\n",
    "colsample_bylevel = 1          # for the initial model before tuning. default = 1\n",
    "train_test_split_seed = 111    # 111\n",
    "model_seed = 100\n",
    "\n",
    "fontsize = 14\n",
    "ticklabelsize = 14\n",
    "####################################\n"
   ],
   "outputs": [],
   "metadata": {
    "collapsed": true
   }
  },
  {
   "cell_type": "markdown",
   "source": [
    "# Load data"
   ],
   "metadata": {}
  },
  {
   "cell_type": "code",
   "execution_count": 2,
   "source": [
    "df = pd.read_csv(stk_path, sep = \",\")\n",
    "\n",
    "# Convert Date column to datetime\n",
    "df.loc[:, 'Date'] = pd.to_datetime(df['Date'],format='%Y-%m-%d')\n",
    "\n",
    "# Change all column headings to be lower case, and remove spacing\n",
    "df.columns = [str(x).lower().replace(' ', '_') for x in df.columns]\n",
    "\n",
    "# Get month of each sample\n",
    "df['month'] = df['date'].dt.month\n",
    "\n",
    "# Sort by datetime\n",
    "df.sort_values(by='date', inplace=True, ascending=True)\n",
    "\n",
    "df.head()"
   ],
   "outputs": [
    {
     "output_type": "execute_result",
     "data": {
      "text/html": [
       "<div>\n",
       "<style scoped>\n",
       "    .dataframe tbody tr th:only-of-type {\n",
       "        vertical-align: middle;\n",
       "    }\n",
       "\n",
       "    .dataframe tbody tr th {\n",
       "        vertical-align: top;\n",
       "    }\n",
       "\n",
       "    .dataframe thead th {\n",
       "        text-align: right;\n",
       "    }\n",
       "</style>\n",
       "<table border=\"1\" class=\"dataframe\">\n",
       "  <thead>\n",
       "    <tr style=\"text-align: right;\">\n",
       "      <th></th>\n",
       "      <th>date</th>\n",
       "      <th>open</th>\n",
       "      <th>high</th>\n",
       "      <th>low</th>\n",
       "      <th>close</th>\n",
       "      <th>adj_close</th>\n",
       "      <th>volume</th>\n",
       "      <th>month</th>\n",
       "    </tr>\n",
       "  </thead>\n",
       "  <tbody>\n",
       "    <tr>\n",
       "      <th>0</th>\n",
       "      <td>2015-11-25</td>\n",
       "      <td>107.510002</td>\n",
       "      <td>107.660004</td>\n",
       "      <td>107.250000</td>\n",
       "      <td>107.470001</td>\n",
       "      <td>101.497200</td>\n",
       "      <td>1820300</td>\n",
       "      <td>11</td>\n",
       "    </tr>\n",
       "    <tr>\n",
       "      <th>1</th>\n",
       "      <td>2015-11-27</td>\n",
       "      <td>107.589996</td>\n",
       "      <td>107.760002</td>\n",
       "      <td>107.220001</td>\n",
       "      <td>107.629997</td>\n",
       "      <td>101.648300</td>\n",
       "      <td>552400</td>\n",
       "      <td>11</td>\n",
       "    </tr>\n",
       "    <tr>\n",
       "      <th>2</th>\n",
       "      <td>2015-11-30</td>\n",
       "      <td>107.779999</td>\n",
       "      <td>107.849998</td>\n",
       "      <td>107.110001</td>\n",
       "      <td>107.169998</td>\n",
       "      <td>101.213867</td>\n",
       "      <td>3618100</td>\n",
       "      <td>11</td>\n",
       "    </tr>\n",
       "    <tr>\n",
       "      <th>3</th>\n",
       "      <td>2015-12-01</td>\n",
       "      <td>107.589996</td>\n",
       "      <td>108.209999</td>\n",
       "      <td>107.370003</td>\n",
       "      <td>108.180000</td>\n",
       "      <td>102.167740</td>\n",
       "      <td>2443600</td>\n",
       "      <td>12</td>\n",
       "    </tr>\n",
       "    <tr>\n",
       "      <th>4</th>\n",
       "      <td>2015-12-02</td>\n",
       "      <td>108.099998</td>\n",
       "      <td>108.269997</td>\n",
       "      <td>106.879997</td>\n",
       "      <td>107.050003</td>\n",
       "      <td>101.100533</td>\n",
       "      <td>2937200</td>\n",
       "      <td>12</td>\n",
       "    </tr>\n",
       "  </tbody>\n",
       "</table>\n",
       "</div>"
      ],
      "text/plain": [
       "        date        open        high         low       close   adj_close  \\\n",
       "0 2015-11-25  107.510002  107.660004  107.250000  107.470001  101.497200   \n",
       "1 2015-11-27  107.589996  107.760002  107.220001  107.629997  101.648300   \n",
       "2 2015-11-30  107.779999  107.849998  107.110001  107.169998  101.213867   \n",
       "3 2015-12-01  107.589996  108.209999  107.370003  108.180000  102.167740   \n",
       "4 2015-12-02  108.099998  108.269997  106.879997  107.050003  101.100533   \n",
       "\n",
       "    volume  month  \n",
       "0  1820300     11  \n",
       "1   552400     11  \n",
       "2  3618100     11  \n",
       "3  2443600     12  \n",
       "4  2937200     12  "
      ]
     },
     "metadata": {},
     "execution_count": 2
    }
   ],
   "metadata": {}
  },
  {
   "cell_type": "code",
   "execution_count": 3,
   "source": [
    "## Use JSON data"
   ],
   "outputs": [],
   "metadata": {}
  },
  {
   "cell_type": "code",
   "execution_count": 4,
   "source": [
    "with open('./data/stock-data-past-50-1-days.json', 'r') as f:\n",
    "    data = json.loads(f.read())\n",
    "\n",
    "df = pd.DataFrame.from_records(data['AAPL'])\n",
    "df.head()\n"
   ],
   "outputs": [
    {
     "output_type": "execute_result",
     "data": {
      "text/html": [
       "<div>\n",
       "<style scoped>\n",
       "    .dataframe tbody tr th:only-of-type {\n",
       "        vertical-align: middle;\n",
       "    }\n",
       "\n",
       "    .dataframe tbody tr th {\n",
       "        vertical-align: top;\n",
       "    }\n",
       "\n",
       "    .dataframe thead th {\n",
       "        text-align: right;\n",
       "    }\n",
       "</style>\n",
       "<table border=\"1\" class=\"dataframe\">\n",
       "  <thead>\n",
       "    <tr style=\"text-align: right;\">\n",
       "      <th></th>\n",
       "      <th>T</th>\n",
       "      <th>v</th>\n",
       "      <th>o</th>\n",
       "      <th>c</th>\n",
       "      <th>h</th>\n",
       "      <th>l</th>\n",
       "      <th>t</th>\n",
       "      <th>n</th>\n",
       "      <th>year</th>\n",
       "      <th>month</th>\n",
       "      <th>day</th>\n",
       "      <th>hour</th>\n",
       "      <th>minute</th>\n",
       "      <th>second</th>\n",
       "      <th>dateTime</th>\n",
       "      <th>ema10</th>\n",
       "      <th>ema100</th>\n",
       "      <th>vwap</th>\n",
       "      <th>obv</th>\n",
       "      <th>rsi2</th>\n",
       "    </tr>\n",
       "  </thead>\n",
       "  <tbody>\n",
       "    <tr>\n",
       "      <th>0</th>\n",
       "      <td>AAPL</td>\n",
       "      <td>2691623</td>\n",
       "      <td>147.27</td>\n",
       "      <td>146.9500</td>\n",
       "      <td>147.52</td>\n",
       "      <td>146.890</td>\n",
       "      <td>1628083800000</td>\n",
       "      <td>17987</td>\n",
       "      <td>2021</td>\n",
       "      <td>08</td>\n",
       "      <td>04</td>\n",
       "      <td>07</td>\n",
       "      <td>30</td>\n",
       "      <td>0</td>\n",
       "      <td>08/04/2021 07:30 am</td>\n",
       "      <td>nan</td>\n",
       "      <td>nan</td>\n",
       "      <td>149.334534</td>\n",
       "      <td>nan</td>\n",
       "      <td>nan</td>\n",
       "    </tr>\n",
       "    <tr>\n",
       "      <th>1</th>\n",
       "      <td>AAPL</td>\n",
       "      <td>1638381</td>\n",
       "      <td>146.95</td>\n",
       "      <td>147.1100</td>\n",
       "      <td>147.21</td>\n",
       "      <td>146.790</td>\n",
       "      <td>1628084100000</td>\n",
       "      <td>12904</td>\n",
       "      <td>2021</td>\n",
       "      <td>08</td>\n",
       "      <td>04</td>\n",
       "      <td>07</td>\n",
       "      <td>35</td>\n",
       "      <td>0</td>\n",
       "      <td>08/04/2021 07:35 am</td>\n",
       "      <td>nan</td>\n",
       "      <td>nan</td>\n",
       "      <td>149.337311</td>\n",
       "      <td>-45664458</td>\n",
       "      <td>nan</td>\n",
       "    </tr>\n",
       "    <tr>\n",
       "      <th>2</th>\n",
       "      <td>AAPL</td>\n",
       "      <td>1433748</td>\n",
       "      <td>147.16</td>\n",
       "      <td>147.5500</td>\n",
       "      <td>147.61</td>\n",
       "      <td>147.135</td>\n",
       "      <td>1628084400000</td>\n",
       "      <td>10544</td>\n",
       "      <td>2021</td>\n",
       "      <td>08</td>\n",
       "      <td>04</td>\n",
       "      <td>07</td>\n",
       "      <td>40</td>\n",
       "      <td>0</td>\n",
       "      <td>08/04/2021 07:40 am</td>\n",
       "      <td>nan</td>\n",
       "      <td>nan</td>\n",
       "      <td>149.339068</td>\n",
       "      <td>-42972835</td>\n",
       "      <td>13.92</td>\n",
       "    </tr>\n",
       "    <tr>\n",
       "      <th>3</th>\n",
       "      <td>AAPL</td>\n",
       "      <td>1382444</td>\n",
       "      <td>147.56</td>\n",
       "      <td>147.3453</td>\n",
       "      <td>147.78</td>\n",
       "      <td>147.240</td>\n",
       "      <td>1628084700000</td>\n",
       "      <td>11146</td>\n",
       "      <td>2021</td>\n",
       "      <td>08</td>\n",
       "      <td>04</td>\n",
       "      <td>07</td>\n",
       "      <td>45</td>\n",
       "      <td>0</td>\n",
       "      <td>08/04/2021 07:45 am</td>\n",
       "      <td>nan</td>\n",
       "      <td>nan</td>\n",
       "      <td>149.340344</td>\n",
       "      <td>-41334454</td>\n",
       "      <td>21.16</td>\n",
       "    </tr>\n",
       "    <tr>\n",
       "      <th>4</th>\n",
       "      <td>AAPL</td>\n",
       "      <td>1350000</td>\n",
       "      <td>147.34</td>\n",
       "      <td>147.3499</td>\n",
       "      <td>147.60</td>\n",
       "      <td>147.100</td>\n",
       "      <td>1628085000000</td>\n",
       "      <td>10363</td>\n",
       "      <td>2021</td>\n",
       "      <td>08</td>\n",
       "      <td>04</td>\n",
       "      <td>07</td>\n",
       "      <td>50</td>\n",
       "      <td>0</td>\n",
       "      <td>08/04/2021 07:50 am</td>\n",
       "      <td>nan</td>\n",
       "      <td>nan</td>\n",
       "      <td>149.341561</td>\n",
       "      <td>-42768202</td>\n",
       "      <td>74.43</td>\n",
       "    </tr>\n",
       "  </tbody>\n",
       "</table>\n",
       "</div>"
      ],
      "text/plain": [
       "      T        v       o         c       h        l              t      n  \\\n",
       "0  AAPL  2691623  147.27  146.9500  147.52  146.890  1628083800000  17987   \n",
       "1  AAPL  1638381  146.95  147.1100  147.21  146.790  1628084100000  12904   \n",
       "2  AAPL  1433748  147.16  147.5500  147.61  147.135  1628084400000  10544   \n",
       "3  AAPL  1382444  147.56  147.3453  147.78  147.240  1628084700000  11146   \n",
       "4  AAPL  1350000  147.34  147.3499  147.60  147.100  1628085000000  10363   \n",
       "\n",
       "   year month day hour minute  second             dateTime ema10 ema100  \\\n",
       "0  2021    08  04   07     30       0  08/04/2021 07:30 am   nan    nan   \n",
       "1  2021    08  04   07     35       0  08/04/2021 07:35 am   nan    nan   \n",
       "2  2021    08  04   07     40       0  08/04/2021 07:40 am   nan    nan   \n",
       "3  2021    08  04   07     45       0  08/04/2021 07:45 am   nan    nan   \n",
       "4  2021    08  04   07     50       0  08/04/2021 07:50 am   nan    nan   \n",
       "\n",
       "         vwap        obv   rsi2  \n",
       "0  149.334534        nan    nan  \n",
       "1  149.337311  -45664458    nan  \n",
       "2  149.339068  -42972835  13.92  \n",
       "3  149.340344  -41334454  21.16  \n",
       "4  149.341561  -42768202  74.43  "
      ]
     },
     "metadata": {},
     "execution_count": 4
    }
   ],
   "metadata": {}
  },
  {
   "cell_type": "code",
   "execution_count": 5,
   "source": [
    "# Plot adjusted close over time\n",
    "rcParams['figure.figsize'] = 10, 8 # width 10, height 8\n",
    "\n",
    "ax = df.plot(x='dateTime', y='c', style='b-', grid=True)\n",
    "ax.set_xlabel(\"date\")\n",
    "ax.set_ylabel(\"USD\")\n"
   ],
   "outputs": [
    {
     "output_type": "stream",
     "name": "stderr",
     "text": [
      "/usr/local/lib/python3.8/site-packages/pandas/plotting/_matplotlib/core.py:1235: UserWarning: FixedFormatter should only be used together with FixedLocator\n",
      "  ax.set_xticklabels(xticklabels)\n"
     ]
    },
    {
     "output_type": "execute_result",
     "data": {
      "text/plain": [
       "Text(0, 0.5, 'USD')"
      ]
     },
     "metadata": {},
     "execution_count": 5
    },
    {
     "output_type": "display_data",
     "data": {
      "image/png": "[encoded data removed]",
      "text/plain": [
       "<Figure size 720x576 with 1 Axes>"
      ]
     },
     "metadata": {
      "needs_background": "light"
     }
    }
   ],
   "metadata": {}
  },
  {
   "cell_type": "markdown",
   "source": [
    "# Feature Engineering"
   ],
   "metadata": {}
  },
  {
   "cell_type": "markdown",
   "source": [
    "We will generate the following features:\n",
    "* Mean 'adj_close' of each month\n",
    "* Difference between high and low of each day\n",
    "* Difference between open and close of each day\n",
    "* Mean volume of each month"
   ],
   "metadata": {
    "collapsed": true
   }
  },
  {
   "cell_type": "code",
   "execution_count": 6,
   "source": [
    "# Get difference between high and low of each day\n",
    "df['range_hl'] = df['h'] - df['l']\n",
    "\n",
    "# Get difference between open and close of each day\n",
    "df['range_oc'] = df['o'] - df['c']\n",
    "\n",
    "df.head()"
   ],
   "outputs": [
    {
     "output_type": "execute_result",
     "data": {
      "text/html": [
       "<div>\n",
       "<style scoped>\n",
       "    .dataframe tbody tr th:only-of-type {\n",
       "        vertical-align: middle;\n",
       "    }\n",
       "\n",
       "    .dataframe tbody tr th {\n",
       "        vertical-align: top;\n",
       "    }\n",
       "\n",
       "    .dataframe thead th {\n",
       "        text-align: right;\n",
       "    }\n",
       "</style>\n",
       "<table border=\"1\" class=\"dataframe\">\n",
       "  <thead>\n",
       "    <tr style=\"text-align: right;\">\n",
       "      <th></th>\n",
       "      <th>T</th>\n",
       "      <th>v</th>\n",
       "      <th>o</th>\n",
       "      <th>c</th>\n",
       "      <th>h</th>\n",
       "      <th>l</th>\n",
       "      <th>t</th>\n",
       "      <th>n</th>\n",
       "      <th>year</th>\n",
       "      <th>month</th>\n",
       "      <th>...</th>\n",
       "      <th>minute</th>\n",
       "      <th>second</th>\n",
       "      <th>dateTime</th>\n",
       "      <th>ema10</th>\n",
       "      <th>ema100</th>\n",
       "      <th>vwap</th>\n",
       "      <th>obv</th>\n",
       "      <th>rsi2</th>\n",
       "      <th>range_hl</th>\n",
       "      <th>range_oc</th>\n",
       "    </tr>\n",
       "  </thead>\n",
       "  <tbody>\n",
       "    <tr>\n",
       "      <th>0</th>\n",
       "      <td>AAPL</td>\n",
       "      <td>2691623</td>\n",
       "      <td>147.27</td>\n",
       "      <td>146.9500</td>\n",
       "      <td>147.52</td>\n",
       "      <td>146.890</td>\n",
       "      <td>1628083800000</td>\n",
       "      <td>17987</td>\n",
       "      <td>2021</td>\n",
       "      <td>08</td>\n",
       "      <td>...</td>\n",
       "      <td>30</td>\n",
       "      <td>0</td>\n",
       "      <td>08/04/2021 07:30 am</td>\n",
       "      <td>nan</td>\n",
       "      <td>nan</td>\n",
       "      <td>149.334534</td>\n",
       "      <td>nan</td>\n",
       "      <td>nan</td>\n",
       "      <td>0.630</td>\n",
       "      <td>0.3200</td>\n",
       "    </tr>\n",
       "    <tr>\n",
       "      <th>1</th>\n",
       "      <td>AAPL</td>\n",
       "      <td>1638381</td>\n",
       "      <td>146.95</td>\n",
       "      <td>147.1100</td>\n",
       "      <td>147.21</td>\n",
       "      <td>146.790</td>\n",
       "      <td>1628084100000</td>\n",
       "      <td>12904</td>\n",
       "      <td>2021</td>\n",
       "      <td>08</td>\n",
       "      <td>...</td>\n",
       "      <td>35</td>\n",
       "      <td>0</td>\n",
       "      <td>08/04/2021 07:35 am</td>\n",
       "      <td>nan</td>\n",
       "      <td>nan</td>\n",
       "      <td>149.337311</td>\n",
       "      <td>-45664458</td>\n",
       "      <td>nan</td>\n",
       "      <td>0.420</td>\n",
       "      <td>-0.1600</td>\n",
       "    </tr>\n",
       "    <tr>\n",
       "      <th>2</th>\n",
       "      <td>AAPL</td>\n",
       "      <td>1433748</td>\n",
       "      <td>147.16</td>\n",
       "      <td>147.5500</td>\n",
       "      <td>147.61</td>\n",
       "      <td>147.135</td>\n",
       "      <td>1628084400000</td>\n",
       "      <td>10544</td>\n",
       "      <td>2021</td>\n",
       "      <td>08</td>\n",
       "      <td>...</td>\n",
       "      <td>40</td>\n",
       "      <td>0</td>\n",
       "      <td>08/04/2021 07:40 am</td>\n",
       "      <td>nan</td>\n",
       "      <td>nan</td>\n",
       "      <td>149.339068</td>\n",
       "      <td>-42972835</td>\n",
       "      <td>13.92</td>\n",
       "      <td>0.475</td>\n",
       "      <td>-0.3900</td>\n",
       "    </tr>\n",
       "    <tr>\n",
       "      <th>3</th>\n",
       "      <td>AAPL</td>\n",
       "      <td>1382444</td>\n",
       "      <td>147.56</td>\n",
       "      <td>147.3453</td>\n",
       "      <td>147.78</td>\n",
       "      <td>147.240</td>\n",
       "      <td>1628084700000</td>\n",
       "      <td>11146</td>\n",
       "      <td>2021</td>\n",
       "      <td>08</td>\n",
       "      <td>...</td>\n",
       "      <td>45</td>\n",
       "      <td>0</td>\n",
       "      <td>08/04/2021 07:45 am</td>\n",
       "      <td>nan</td>\n",
       "      <td>nan</td>\n",
       "      <td>149.340344</td>\n",
       "      <td>-41334454</td>\n",
       "      <td>21.16</td>\n",
       "      <td>0.540</td>\n",
       "      <td>0.2147</td>\n",
       "    </tr>\n",
       "    <tr>\n",
       "      <th>4</th>\n",
       "      <td>AAPL</td>\n",
       "      <td>1350000</td>\n",
       "      <td>147.34</td>\n",
       "      <td>147.3499</td>\n",
       "      <td>147.60</td>\n",
       "      <td>147.100</td>\n",
       "      <td>1628085000000</td>\n",
       "      <td>10363</td>\n",
       "      <td>2021</td>\n",
       "      <td>08</td>\n",
       "      <td>...</td>\n",
       "      <td>50</td>\n",
       "      <td>0</td>\n",
       "      <td>08/04/2021 07:50 am</td>\n",
       "      <td>nan</td>\n",
       "      <td>nan</td>\n",
       "      <td>149.341561</td>\n",
       "      <td>-42768202</td>\n",
       "      <td>74.43</td>\n",
       "      <td>0.500</td>\n",
       "      <td>-0.0099</td>\n",
       "    </tr>\n",
       "  </tbody>\n",
       "</table>\n",
       "<p>5 rows × 22 columns</p>\n",
       "</div>"
      ],
      "text/plain": [
       "      T        v       o         c       h        l              t      n  \\\n",
       "0  AAPL  2691623  147.27  146.9500  147.52  146.890  1628083800000  17987   \n",
       "1  AAPL  1638381  146.95  147.1100  147.21  146.790  1628084100000  12904   \n",
       "2  AAPL  1433748  147.16  147.5500  147.61  147.135  1628084400000  10544   \n",
       "3  AAPL  1382444  147.56  147.3453  147.78  147.240  1628084700000  11146   \n",
       "4  AAPL  1350000  147.34  147.3499  147.60  147.100  1628085000000  10363   \n",
       "\n",
       "   year month  ... minute second             dateTime  ema10 ema100  \\\n",
       "0  2021    08  ...     30      0  08/04/2021 07:30 am    nan    nan   \n",
       "1  2021    08  ...     35      0  08/04/2021 07:35 am    nan    nan   \n",
       "2  2021    08  ...     40      0  08/04/2021 07:40 am    nan    nan   \n",
       "3  2021    08  ...     45      0  08/04/2021 07:45 am    nan    nan   \n",
       "4  2021    08  ...     50      0  08/04/2021 07:50 am    nan    nan   \n",
       "\n",
       "         vwap        obv   rsi2 range_hl range_oc  \n",
       "0  149.334534        nan    nan    0.630   0.3200  \n",
       "1  149.337311  -45664458    nan    0.420  -0.1600  \n",
       "2  149.339068  -42972835  13.92    0.475  -0.3900  \n",
       "3  149.340344  -41334454  21.16    0.540   0.2147  \n",
       "4  149.341561  -42768202  74.43    0.500  -0.0099  \n",
       "\n",
       "[5 rows x 22 columns]"
      ]
     },
     "metadata": {},
     "execution_count": 6
    }
   ],
   "metadata": {
    "scrolled": true
   }
  },
  {
   "cell_type": "markdown",
   "source": [
    "Now we use lags up to N number of days to use as features."
   ],
   "metadata": {}
  },
  {
   "cell_type": "code",
   "execution_count": 7,
   "source": [
    "# Add a column 'order_day' to indicate the order of the rows by date\n",
    "df['order_day'] = [x for x in list(range(len(df)))]\n",
    "\n",
    "# merging_keys\n",
    "merging_keys = ['order_day']\n",
    "\n",
    "# List of columns that we will use to create lags\n",
    "lag_cols = ['c', 'range_hl', 'range_oc', 'v']\n",
    "lag_cols"
   ],
   "outputs": [
    {
     "output_type": "execute_result",
     "data": {
      "text/plain": [
       "['c', 'range_hl', 'range_oc', 'v']"
      ]
     },
     "metadata": {},
     "execution_count": 7
    }
   ],
   "metadata": {}
  },
  {
   "cell_type": "code",
   "execution_count": 8,
   "source": [
    "shift_range = [x+1 for x in range(N)]\n",
    "\n",
    "for shift in  tqdm(shift_range):\n",
    "    train_shift = df[merging_keys + lag_cols].copy()\n",
    "    \n",
    "    # E.g. order_day of 0 becomes 1, for shift = 1.\n",
    "    # So when this is merged with order_day of 1 in df, this will represent lag of 1.\n",
    "    train_shift['order_day'] = train_shift['order_day'] + shift\n",
    "    \n",
    "    foo = lambda x: '{}_lag_{}'.format(x, shift) if x in lag_cols else x\n",
    "    train_shift = train_shift.rename(columns=foo)\n",
    "\n",
    "    df = pd.merge(df, train_shift, on=merging_keys, how='left') #.fillna(0)\n",
    "    \n",
    "del train_shift\n",
    "\n",
    "# Remove the first N rows which contain NaNs\n",
    "df = df[N:]\n",
    "    \n",
    "df.head()"
   ],
   "outputs": [
    {
     "output_type": "stream",
     "name": "stderr",
     "text": [
      "100%|██████████| 7/7 [00:00<00:00, 83.17it/s]\n"
     ]
    },
    {
     "output_type": "execute_result",
     "data": {
      "text/html": [
       "<div>\n",
       "<style scoped>\n",
       "    .dataframe tbody tr th:only-of-type {\n",
       "        vertical-align: middle;\n",
       "    }\n",
       "\n",
       "    .dataframe tbody tr th {\n",
       "        vertical-align: top;\n",
       "    }\n",
       "\n",
       "    .dataframe thead th {\n",
       "        text-align: right;\n",
       "    }\n",
       "</style>\n",
       "<table border=\"1\" class=\"dataframe\">\n",
       "  <thead>\n",
       "    <tr style=\"text-align: right;\">\n",
       "      <th></th>\n",
       "      <th>T</th>\n",
       "      <th>v</th>\n",
       "      <th>o</th>\n",
       "      <th>c</th>\n",
       "      <th>h</th>\n",
       "      <th>l</th>\n",
       "      <th>t</th>\n",
       "      <th>n</th>\n",
       "      <th>year</th>\n",
       "      <th>month</th>\n",
       "      <th>...</th>\n",
       "      <th>range_oc_lag_5</th>\n",
       "      <th>v_lag_5</th>\n",
       "      <th>c_lag_6</th>\n",
       "      <th>range_hl_lag_6</th>\n",
       "      <th>range_oc_lag_6</th>\n",
       "      <th>v_lag_6</th>\n",
       "      <th>c_lag_7</th>\n",
       "      <th>range_hl_lag_7</th>\n",
       "      <th>range_oc_lag_7</th>\n",
       "      <th>v_lag_7</th>\n",
       "    </tr>\n",
       "  </thead>\n",
       "  <tbody>\n",
       "    <tr>\n",
       "      <th>7</th>\n",
       "      <td>AAPL</td>\n",
       "      <td>924241</td>\n",
       "      <td>147.410</td>\n",
       "      <td>147.2623</td>\n",
       "      <td>147.4250</td>\n",
       "      <td>147.07</td>\n",
       "      <td>1628085900000</td>\n",
       "      <td>7755</td>\n",
       "      <td>2021</td>\n",
       "      <td>08</td>\n",
       "      <td>...</td>\n",
       "      <td>-0.3900</td>\n",
       "      <td>1433748.0</td>\n",
       "      <td>147.1100</td>\n",
       "      <td>0.420</td>\n",
       "      <td>-0.1600</td>\n",
       "      <td>1638381.0</td>\n",
       "      <td>146.9500</td>\n",
       "      <td>0.630</td>\n",
       "      <td>0.3200</td>\n",
       "      <td>2691623.0</td>\n",
       "    </tr>\n",
       "    <tr>\n",
       "      <th>8</th>\n",
       "      <td>AAPL</td>\n",
       "      <td>1070273</td>\n",
       "      <td>147.285</td>\n",
       "      <td>146.9701</td>\n",
       "      <td>147.3900</td>\n",
       "      <td>146.84</td>\n",
       "      <td>1628086200000</td>\n",
       "      <td>9352</td>\n",
       "      <td>2021</td>\n",
       "      <td>08</td>\n",
       "      <td>...</td>\n",
       "      <td>0.2147</td>\n",
       "      <td>1382444.0</td>\n",
       "      <td>147.5500</td>\n",
       "      <td>0.475</td>\n",
       "      <td>-0.3900</td>\n",
       "      <td>1433748.0</td>\n",
       "      <td>147.1100</td>\n",
       "      <td>0.420</td>\n",
       "      <td>-0.1600</td>\n",
       "      <td>1638381.0</td>\n",
       "    </tr>\n",
       "    <tr>\n",
       "      <th>9</th>\n",
       "      <td>AAPL</td>\n",
       "      <td>1167158</td>\n",
       "      <td>146.980</td>\n",
       "      <td>146.9200</td>\n",
       "      <td>147.0200</td>\n",
       "      <td>146.80</td>\n",
       "      <td>1628086500000</td>\n",
       "      <td>8312</td>\n",
       "      <td>2021</td>\n",
       "      <td>08</td>\n",
       "      <td>...</td>\n",
       "      <td>-0.0099</td>\n",
       "      <td>1350000.0</td>\n",
       "      <td>147.3453</td>\n",
       "      <td>0.540</td>\n",
       "      <td>0.2147</td>\n",
       "      <td>1382444.0</td>\n",
       "      <td>147.5500</td>\n",
       "      <td>0.475</td>\n",
       "      <td>-0.3900</td>\n",
       "      <td>1433748.0</td>\n",
       "    </tr>\n",
       "    <tr>\n",
       "      <th>10</th>\n",
       "      <td>AAPL</td>\n",
       "      <td>1163236</td>\n",
       "      <td>146.920</td>\n",
       "      <td>147.0400</td>\n",
       "      <td>147.0699</td>\n",
       "      <td>146.69</td>\n",
       "      <td>1628086800000</td>\n",
       "      <td>9378</td>\n",
       "      <td>2021</td>\n",
       "      <td>08</td>\n",
       "      <td>...</td>\n",
       "      <td>-0.3430</td>\n",
       "      <td>1460804.0</td>\n",
       "      <td>147.3499</td>\n",
       "      <td>0.500</td>\n",
       "      <td>-0.0099</td>\n",
       "      <td>1350000.0</td>\n",
       "      <td>147.3453</td>\n",
       "      <td>0.540</td>\n",
       "      <td>0.2147</td>\n",
       "      <td>1382444.0</td>\n",
       "    </tr>\n",
       "    <tr>\n",
       "      <th>11</th>\n",
       "      <td>AAPL</td>\n",
       "      <td>869028</td>\n",
       "      <td>147.035</td>\n",
       "      <td>147.0800</td>\n",
       "      <td>147.1800</td>\n",
       "      <td>146.90</td>\n",
       "      <td>1628087100000</td>\n",
       "      <td>7548</td>\n",
       "      <td>2021</td>\n",
       "      <td>08</td>\n",
       "      <td>...</td>\n",
       "      <td>0.3000</td>\n",
       "      <td>947881.0</td>\n",
       "      <td>147.6930</td>\n",
       "      <td>0.490</td>\n",
       "      <td>-0.3430</td>\n",
       "      <td>1460804.0</td>\n",
       "      <td>147.3499</td>\n",
       "      <td>0.500</td>\n",
       "      <td>-0.0099</td>\n",
       "      <td>1350000.0</td>\n",
       "    </tr>\n",
       "  </tbody>\n",
       "</table>\n",
       "<p>5 rows × 51 columns</p>\n",
       "</div>"
      ],
      "text/plain": [
       "       T        v        o         c         h       l              t     n  \\\n",
       "7   AAPL   924241  147.410  147.2623  147.4250  147.07  1628085900000  7755   \n",
       "8   AAPL  1070273  147.285  146.9701  147.3900  146.84  1628086200000  9352   \n",
       "9   AAPL  1167158  146.980  146.9200  147.0200  146.80  1628086500000  8312   \n",
       "10  AAPL  1163236  146.920  147.0400  147.0699  146.69  1628086800000  9378   \n",
       "11  AAPL   869028  147.035  147.0800  147.1800  146.90  1628087100000  7548   \n",
       "\n",
       "    year month  ... range_oc_lag_5    v_lag_5   c_lag_6  range_hl_lag_6  \\\n",
       "7   2021    08  ...        -0.3900  1433748.0  147.1100           0.420   \n",
       "8   2021    08  ...         0.2147  1382444.0  147.5500           0.475   \n",
       "9   2021    08  ...        -0.0099  1350000.0  147.3453           0.540   \n",
       "10  2021    08  ...        -0.3430  1460804.0  147.3499           0.500   \n",
       "11  2021    08  ...         0.3000   947881.0  147.6930           0.490   \n",
       "\n",
       "   range_oc_lag_6    v_lag_6   c_lag_7  range_hl_lag_7 range_oc_lag_7  \\\n",
       "7         -0.1600  1638381.0  146.9500           0.630         0.3200   \n",
       "8         -0.3900  1433748.0  147.1100           0.420        -0.1600   \n",
       "9          0.2147  1382444.0  147.5500           0.475        -0.3900   \n",
       "10        -0.0099  1350000.0  147.3453           0.540         0.2147   \n",
       "11        -0.3430  1460804.0  147.3499           0.500        -0.0099   \n",
       "\n",
       "      v_lag_7  \n",
       "7   2691623.0  \n",
       "8   1638381.0  \n",
       "9   1433748.0  \n",
       "10  1382444.0  \n",
       "11  1350000.0  \n",
       "\n",
       "[5 rows x 51 columns]"
      ]
     },
     "metadata": {},
     "execution_count": 8
    }
   ],
   "metadata": {}
  },
  {
   "cell_type": "code",
   "execution_count": 9,
   "source": [
    "df.info()"
   ],
   "outputs": [
    {
     "output_type": "stream",
     "name": "stdout",
     "text": [
      "<class 'pandas.core.frame.DataFrame'>\n",
      "Int64Index: 2491 entries, 7 to 2497\n",
      "Data columns (total 51 columns):\n",
      " #   Column          Non-Null Count  Dtype  \n",
      "---  ------          --------------  -----  \n",
      " 0   T               2491 non-null   object \n",
      " 1   v               2491 non-null   int64  \n",
      " 2   o               2491 non-null   float64\n",
      " 3   c               2491 non-null   float64\n",
      " 4   h               2491 non-null   float64\n",
      " 5   l               2491 non-null   float64\n",
      " 6   t               2491 non-null   int64  \n",
      " 7   n               2491 non-null   int64  \n",
      " 8   year            2491 non-null   object \n",
      " 9   month           2491 non-null   object \n",
      " 10  day             2491 non-null   object \n",
      " 11  hour            2491 non-null   object \n",
      " 12  minute          2491 non-null   object \n",
      " 13  second          2491 non-null   int64  \n",
      " 14  dateTime        2491 non-null   object \n",
      " 15  ema10           2491 non-null   object \n",
      " 16  ema100          2491 non-null   object \n",
      " 17  vwap            2491 non-null   float64\n",
      " 18  obv             2491 non-null   object \n",
      " 19  rsi2            2491 non-null   object \n",
      " 20  range_hl        2491 non-null   float64\n",
      " 21  range_oc        2491 non-null   float64\n",
      " 22  order_day       2491 non-null   int64  \n",
      " 23  c_lag_1         2491 non-null   float64\n",
      " 24  range_hl_lag_1  2491 non-null   float64\n",
      " 25  range_oc_lag_1  2491 non-null   float64\n",
      " 26  v_lag_1         2491 non-null   float64\n",
      " 27  c_lag_2         2491 non-null   float64\n",
      " 28  range_hl_lag_2  2491 non-null   float64\n",
      " 29  range_oc_lag_2  2491 non-null   float64\n",
      " 30  v_lag_2         2491 non-null   float64\n",
      " 31  c_lag_3         2491 non-null   float64\n",
      " 32  range_hl_lag_3  2491 non-null   float64\n",
      " 33  range_oc_lag_3  2491 non-null   float64\n",
      " 34  v_lag_3         2491 non-null   float64\n",
      " 35  c_lag_4         2491 non-null   float64\n",
      " 36  range_hl_lag_4  2491 non-null   float64\n",
      " 37  range_oc_lag_4  2491 non-null   float64\n",
      " 38  v_lag_4         2491 non-null   float64\n",
      " 39  c_lag_5         2491 non-null   float64\n",
      " 40  range_hl_lag_5  2491 non-null   float64\n",
      " 41  range_oc_lag_5  2491 non-null   float64\n",
      " 42  v_lag_5         2491 non-null   float64\n",
      " 43  c_lag_6         2491 non-null   float64\n",
      " 44  range_hl_lag_6  2491 non-null   float64\n",
      " 45  range_oc_lag_6  2491 non-null   float64\n",
      " 46  v_lag_6         2491 non-null   float64\n",
      " 47  c_lag_7         2491 non-null   float64\n",
      " 48  range_hl_lag_7  2491 non-null   float64\n",
      " 49  range_oc_lag_7  2491 non-null   float64\n",
      " 50  v_lag_7         2491 non-null   float64\n",
      "dtypes: float64(35), int64(5), object(11)\n",
      "memory usage: 1012.0+ KB\n"
     ]
    }
   ],
   "metadata": {}
  },
  {
   "cell_type": "code",
   "execution_count": 10,
   "source": [
    "# # Get mean of adj_close of each month\n",
    "# df_gb = df.groupby(['month'], as_index=False).agg({'adj_close':'mean'})\n",
    "# df_gb = df_gb.rename(columns={'adj_close':'adj_close_mean'})\n",
    "# df_gb\n",
    "\n",
    "# # Merge to main df\n",
    "# df = df.merge(df_gb, \n",
    "#               left_on=['month'], \n",
    "#               right_on=['month'],\n",
    "#               how='left').fillna(0)\n",
    "\n",
    "# # Merge to main df\n",
    "# shift_range = [x+1 for x in range(2)]\n",
    "\n",
    "# for shift in tqdm_notebook(shift_range):\n",
    "#     train_shift = df[merging_keys + lag_cols].copy()\n",
    "    \n",
    "#     # E.g. order_day of 0 becomes 1, for shift = 1.\n",
    "#     # So when this is merged with order_day of 1 in df, this will represent lag of 1.\n",
    "#     train_shift['order_day'] = train_shift['order_day'] + shift\n",
    "    \n",
    "#     foo = lambda x: '{}_lag_{}'.format(x, shift) if x in lag_cols else x\n",
    "#     train_shift = train_shift.rename(columns=foo)\n",
    "\n",
    "#     df = pd.merge(df, train_shift, on=merging_keys, how='left') #.fillna(0)\n",
    "    \n",
    "# del train_shift\n",
    "    \n",
    "# df"
   ],
   "outputs": [],
   "metadata": {
    "collapsed": true
   }
  },
  {
   "cell_type": "code",
   "execution_count": 11,
   "source": [
    "# # Get mean of volume of each month\n",
    "# df_gb = df.groupby(['month'], as_index=False).agg({'volume':'mean'})\n",
    "# df_gb = df_gb.rename(columns={'volume':'volume_mean'})\n",
    "# df_gb\n",
    "\n",
    "# # Merge to main df\n",
    "# df = df.merge(df_gb, \n",
    "#               left_on=['month'], \n",
    "#               right_on=['month'],\n",
    "#               how='left').fillna(0)\n",
    "\n",
    "# df.head()"
   ],
   "outputs": [],
   "metadata": {
    "collapsed": true
   }
  },
  {
   "cell_type": "markdown",
   "source": [
    "# Split into train, cv and test set"
   ],
   "metadata": {
    "collapsed": true
   }
  },
  {
   "cell_type": "code",
   "execution_count": 12,
   "source": [
    "features = [\n",
    "\"c_lag_1\",\n",
    "\"range_hl_lag_1\",\n",
    "\"range_oc_lag_1\",\n",
    "\"v_lag_1\",\n",
    "\"c_lag_2\",\n",
    "\"range_hl_lag_2\",\n",
    "\"range_oc_lag_2\",\n",
    "\"v_lag_2\",\n",
    "\"c_lag_3\",\n",
    "\"range_hl_lag_3\",\n",
    "\"range_oc_lag_3\",\n",
    "\"v_lag_3\",\n",
    "\"c_lag_4\",\n",
    "\"range_hl_lag_4\",\n",
    "\"range_oc_lag_4\",\n",
    "\"v_lag_4\",\n",
    "\"c_lag_5\",\n",
    "\"range_hl_lag_5\",\n",
    "\"range_oc_lag_5\",\n",
    "\"v_lag_5\",\n",
    "\"c_lag_6\",\n",
    "\"range_hl_lag_6\",\n",
    "\"range_oc_lag_6\",\n",
    "\"v_lag_6\",\n",
    "\"c_lag_7\",\n",
    "\"range_hl_lag_7\",\n",
    "\"range_oc_lag_7\",\n",
    "\"v_lag_7\"\n",
    "]\n",
    "\n",
    "target = \"c\"\n",
    "\n",
    "# Get sizes of each of the datasets\n",
    "num_cv = int(cv_size*len(df))\n",
    "num_test = int(test_size*len(df))\n",
    "num_train = len(df) - num_cv - num_test\n",
    "\n",
    "# Split into train, cv, and test\n",
    "train = df[:num_train]\n",
    "cv = df[num_train:num_train+num_cv]\n",
    "train_cv = df[:num_train+num_cv]\n",
    "test = df[num_train+num_cv:]\n",
    "\n",
    "# Split into X and y\n",
    "X_train = train[features]\n",
    "y_train = train[target]\n",
    "X_cv = cv[features]\n",
    "y_cv = cv[target]\n",
    "X_train_cv = train_cv[features]\n",
    "y_train_cv = train_cv[target]\n",
    "X_sample = test[features]\n",
    "y_sample = test[target]\n",
    "print(\"X_train.shape = \" + str(X_train.shape))\n",
    "print(\"y_train.shape = \" + str(y_train.shape))\n",
    "print(\"X_cv.shape = \" + str(X_cv.shape))\n",
    "print(\"y_cv.shape = \" + str(y_cv.shape))\n",
    "print(\"X_train_cv.shape = \" + str(X_train_cv.shape))\n",
    "print(\"y_train_cv.shape = \" + str(y_train_cv.shape))\n",
    "print(\"X_sample.shape = \" + str(X_sample.shape))\n",
    "print(\"y_sample.shape = \" + str(y_sample.shape))"
   ],
   "outputs": [
    {
     "output_type": "stream",
     "name": "stdout",
     "text": [
      "X_train.shape = (1495, 28)\n",
      "y_train.shape = (1495,)\n",
      "X_cv.shape = (498, 28)\n",
      "y_cv.shape = (498,)\n",
      "X_train_cv.shape = (1993, 28)\n",
      "y_train_cv.shape = (1993,)\n",
      "X_sample.shape = (498, 28)\n",
      "y_sample.shape = (498,)\n"
     ]
    }
   ],
   "metadata": {}
  },
  {
   "cell_type": "markdown",
   "source": [
    "# EDA"
   ],
   "metadata": {}
  },
  {
   "cell_type": "code",
   "execution_count": 13,
   "source": [
    "# Plot adjusted close over time\n",
    "rcParams['figure.figsize'] = 10, 8 # width 10, height 8\n",
    "\n",
    "ax = train.plot(x='dateTime', y='c', style='b-', grid=True)\n",
    "ax = cv.plot(x='dateTime', y='c', style='y-', grid=True, ax=ax)\n",
    "ax = test.plot(x='dateTime', y='c', style='g-', grid=True, ax=ax)\n",
    "ax.legend(['train', 'dev', 'test'])\n",
    "ax.set_xlabel(\"date\")\n",
    "ax.set_ylabel(\"USD\")"
   ],
   "outputs": [
    {
     "output_type": "stream",
     "name": "stderr",
     "text": [
      "/usr/local/lib/python3.8/site-packages/pandas/plotting/_matplotlib/core.py:1235: UserWarning: FixedFormatter should only be used together with FixedLocator\n",
      "  ax.set_xticklabels(xticklabels)\n"
     ]
    },
    {
     "output_type": "execute_result",
     "data": {
      "text/plain": [
       "Text(0, 0.5, 'USD')"
      ]
     },
     "metadata": {},
     "execution_count": 13
    },
    {
     "output_type": "display_data",
     "data": {
      "image/png": "[encoded data removed]",
      "text/plain": [
       "<Figure size 720x576 with 1 Axes>"
      ]
     },
     "metadata": {
      "needs_background": "light"
     }
    }
   ],
   "metadata": {}
  },
  {
   "cell_type": "markdown",
   "source": [
    "# Train the model using XGBoost"
   ],
   "metadata": {
    "collapsed": true
   }
  },
  {
   "cell_type": "code",
   "execution_count": 14,
   "source": [
    "# Create the model\n",
    "model = XGBRegressor(seed=model_seed,\n",
    "                      n_estimators=n_estimators,\n",
    "                      max_depth=max_depth,\n",
    "                      learning_rate=learning_rate,\n",
    "                      min_child_weight=min_child_weight)\n",
    "\n",
    "# Train the regressor\n",
    "model.fit(X_train, y_train)"
   ],
   "outputs": [
    {
     "output_type": "execute_result",
     "data": {
      "text/plain": [
       "XGBRegressor(base_score=0.5, booster='gbtree', colsample_bylevel=1,\n",
       "             colsample_bynode=1, colsample_bytree=1, gamma=0, gpu_id=-1,\n",
       "             importance_type='gain', interaction_constraints='',\n",
       "             learning_rate=0.1, max_delta_step=0, max_depth=3,\n",
       "             min_child_weight=1, missing=nan, monotone_constraints='()',\n",
       "             n_estimators=100, n_jobs=12, num_parallel_tree=1, random_state=100,\n",
       "             reg_alpha=0, reg_lambda=1, scale_pos_weight=1, seed=100,\n",
       "             subsample=1, tree_method='exact', validate_parameters=1,\n",
       "             verbosity=None)"
      ]
     },
     "metadata": {},
     "execution_count": 14
    }
   ],
   "metadata": {}
  },
  {
   "cell_type": "markdown",
   "source": [
    "# Predict on train set"
   ],
   "metadata": {}
  },
  {
   "cell_type": "code",
   "execution_count": 15,
   "source": [
    "# Do prediction on train set\n",
    "est = model.predict(X_train)\n",
    "\n",
    "# Calculate RMSE\n",
    "math.sqrt(mean_squared_error(y_train, est))\n",
    "\n",
    "train.info()"
   ],
   "outputs": [
    {
     "output_type": "stream",
     "name": "stdout",
     "text": [
      "<class 'pandas.core.frame.DataFrame'>\n",
      "Int64Index: 1495 entries, 7 to 1501\n",
      "Data columns (total 51 columns):\n",
      " #   Column          Non-Null Count  Dtype  \n",
      "---  ------          --------------  -----  \n",
      " 0   T               1495 non-null   object \n",
      " 1   v               1495 non-null   int64  \n",
      " 2   o               1495 non-null   float64\n",
      " 3   c               1495 non-null   float64\n",
      " 4   h               1495 non-null   float64\n",
      " 5   l               1495 non-null   float64\n",
      " 6   t               1495 non-null   int64  \n",
      " 7   n               1495 non-null   int64  \n",
      " 8   year            1495 non-null   object \n",
      " 9   month           1495 non-null   object \n",
      " 10  day             1495 non-null   object \n",
      " 11  hour            1495 non-null   object \n",
      " 12  minute          1495 non-null   object \n",
      " 13  second          1495 non-null   int64  \n",
      " 14  dateTime        1495 non-null   object \n",
      " 15  ema10           1495 non-null   object \n",
      " 16  ema100          1495 non-null   object \n",
      " 17  vwap            1495 non-null   float64\n",
      " 18  obv             1495 non-null   object \n",
      " 19  rsi2            1495 non-null   object \n",
      " 20  range_hl        1495 non-null   float64\n",
      " 21  range_oc        1495 non-null   float64\n",
      " 22  order_day       1495 non-null   int64  \n",
      " 23  c_lag_1         1495 non-null   float64\n",
      " 24  range_hl_lag_1  1495 non-null   float64\n",
      " 25  range_oc_lag_1  1495 non-null   float64\n",
      " 26  v_lag_1         1495 non-null   float64\n",
      " 27  c_lag_2         1495 non-null   float64\n",
      " 28  range_hl_lag_2  1495 non-null   float64\n",
      " 29  range_oc_lag_2  1495 non-null   float64\n",
      " 30  v_lag_2         1495 non-null   float64\n",
      " 31  c_lag_3         1495 non-null   float64\n",
      " 32  range_hl_lag_3  1495 non-null   float64\n",
      " 33  range_oc_lag_3  1495 non-null   float64\n",
      " 34  v_lag_3         1495 non-null   float64\n",
      " 35  c_lag_4         1495 non-null   float64\n",
      " 36  range_hl_lag_4  1495 non-null   float64\n",
      " 37  range_oc_lag_4  1495 non-null   float64\n",
      " 38  v_lag_4         1495 non-null   float64\n",
      " 39  c_lag_5         1495 non-null   float64\n",
      " 40  range_hl_lag_5  1495 non-null   float64\n",
      " 41  range_oc_lag_5  1495 non-null   float64\n",
      " 42  v_lag_5         1495 non-null   float64\n",
      " 43  c_lag_6         1495 non-null   float64\n",
      " 44  range_hl_lag_6  1495 non-null   float64\n",
      " 45  range_oc_lag_6  1495 non-null   float64\n",
      " 46  v_lag_6         1495 non-null   float64\n",
      " 47  c_lag_7         1495 non-null   float64\n",
      " 48  range_hl_lag_7  1495 non-null   float64\n",
      " 49  range_oc_lag_7  1495 non-null   float64\n",
      " 50  v_lag_7         1495 non-null   float64\n",
      "dtypes: float64(35), int64(5), object(11)\n",
      "memory usage: 607.3+ KB\n"
     ]
    }
   ],
   "metadata": {}
  },
  {
   "cell_type": "code",
   "execution_count": 16,
   "source": [
    "# Plot adjusted close over time\n",
    "rcParams['figure.figsize'] = 10, 8 # width 10, height 8\n",
    "\n",
    "est_df = pd.DataFrame({'est': est, \n",
    "                       'dateTime': train['dateTime']})\n",
    "\n",
    "ax = train.plot(x='dateTime', y='c', style='b-', grid=True)\n",
    "ax = cv.plot(x='dateTime', y='c', style='y-', grid=True, ax=ax)\n",
    "ax = test.plot(x='dateTime', y='c', style='g-', grid=True, ax=ax)\n",
    "ax = est_df.plot(x='dateTime', y='est', style='r-', grid=True, ax=ax)\n",
    "ax.legend(['train', 'dev', 'test', 'est'])\n",
    "ax.set_xlabel(\"dateTime\")\n",
    "ax.set_ylabel(\"USD\")"
   ],
   "outputs": [
    {
     "output_type": "stream",
     "name": "stderr",
     "text": [
      "/usr/local/lib/python3.8/site-packages/pandas/plotting/_matplotlib/core.py:1235: UserWarning: FixedFormatter should only be used together with FixedLocator\n",
      "  ax.set_xticklabels(xticklabels)\n"
     ]
    },
    {
     "output_type": "execute_result",
     "data": {
      "text/plain": [
       "Text(0, 0.5, 'USD')"
      ]
     },
     "metadata": {},
     "execution_count": 16
    },
    {
     "output_type": "display_data",
     "data": {
      "image/png": "[encoded data removed]",
      "text/plain": [
       "<Figure size 720x576 with 1 Axes>"
      ]
     },
     "metadata": {
      "needs_background": "light"
     }
    }
   ],
   "metadata": {}
  },
  {
   "cell_type": "markdown",
   "source": [
    "# Predict on dev set"
   ],
   "metadata": {}
  },
  {
   "cell_type": "code",
   "execution_count": 17,
   "source": [
    "# Do prediction on test set\n",
    "est = model.predict(X_cv)\n",
    "\n",
    "# Calculate RMSE\n",
    "print(\"RMSE = \" + str(math.sqrt(mean_squared_error(y_cv, est))))"
   ],
   "outputs": [
    {
     "output_type": "stream",
     "name": "stdout",
     "text": [
      "RMSE = 0.8654903988425051\n"
     ]
    }
   ],
   "metadata": {}
  },
  {
   "cell_type": "code",
   "execution_count": 18,
   "source": [
    "# Plot adjusted close over time\n",
    "rcParams['figure.figsize'] = 10, 8 # width 10, height 8\n",
    "matplotlib.rcParams.update({'font.size': 14})\n",
    "\n",
    "est_df = pd.DataFrame({'est': est, \n",
    "                       'y_cv': y_cv,\n",
    "                       'dateTime': cv['dateTime']})\n",
    "\n",
    "ax = train.plot(x='dateTime', y='c', style='b-', grid=True)\n",
    "ax = cv.plot(x='dateTime', y='c', style='y-', grid=True, ax=ax)\n",
    "ax = test.plot(x='dateTime', y='c', style='g-', grid=True, ax=ax)\n",
    "ax = est_df.plot(x='dateTime', y='est', style='r-', grid=True, ax=ax)\n",
    "ax.legend(['train', 'validation', 'test', 'predictions'])\n",
    "ax.set_xlabel(\"date\")\n",
    "ax.set_ylabel(\"USD\")\n"
   ],
   "outputs": [
    {
     "output_type": "stream",
     "name": "stderr",
     "text": [
      "/usr/local/lib/python3.8/site-packages/pandas/plotting/_matplotlib/core.py:1235: UserWarning: FixedFormatter should only be used together with FixedLocator\n",
      "  ax.set_xticklabels(xticklabels)\n"
     ]
    },
    {
     "output_type": "execute_result",
     "data": {
      "text/plain": [
       "Text(0, 0.5, 'USD')"
      ]
     },
     "metadata": {},
     "execution_count": 18
    },
    {
     "output_type": "display_data",
     "data": {
      "image/png": "[encoded data removed]",
      "text/plain": [
       "<Figure size 720x576 with 1 Axes>"
      ]
     },
     "metadata": {
      "needs_background": "light"
     }
    }
   ],
   "metadata": {}
  },
  {
   "cell_type": "markdown",
   "source": [
    "# Findings\n",
    "* Doesn't work well\n",
    "* Likely because the model was trained on prices below 125 and so when it saw prices above 125 for the dev set, it could not generalize well.\n",
    "* Should try to normalize the data"
   ],
   "metadata": {
    "collapsed": true
   }
  },
  {
   "cell_type": "code",
   "execution_count": null,
   "source": [],
   "outputs": [],
   "metadata": {
    "collapsed": true
   }
  }
 ],
 "metadata": {
  "kernelspec": {
   "name": "python3",
   "display_name": "Python 3.8.3 64-bit"
  },
  "language_info": {
   "name": "python",
   "version": "3.8.3",
   "mimetype": "text/x-python",
   "codemirror_mode": {
    "name": "ipython",
    "version": 3
   },
   "pygments_lexer": "ipython3",
   "nbconvert_exporter": "python",
   "file_extension": ".py"
  },
  "interpreter": {
   "hash": "31f2aee4e71d21fbe5cf8b01ff0e069b9275f58929596ceb00d14d90e3e16cd6"
  }
 },
 "nbformat": 4,
 "nbformat_minor": 2
}